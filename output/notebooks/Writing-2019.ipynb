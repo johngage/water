{
 "cells": [
  {
   "cell_type": "markdown",
   "metadata": {},
   "source": [
    "Outline of main writing topics for 2019\n",
    "\n",
    "Major projects that require a daily log:\n",
    "1. Classes at UC Berkeley\n",
    "  1. Daily book Notes\n",
    "  2. Daily problem solutions\n",
    "  3. Daily lecture observations\n",
    "\n",
    "2. Voting studies\n",
    "  1. OSET\n",
    "  2. Validated Voting\n",
    "3. Berkeley 2050 and Urban Data\n",
    "4. Water in Califoria\n",
    "5. Kibera Town Centre: \n",
    "  1. class outline for DS course to follow edX course in January\n",
    "  2. Daily Operations: Dashboard\n",
    "\n",
    "\n",
    "- Public health in major slums\n",
    "- Ethical considerations in designing evaluations of interventions\n",
    "- Details of publishing environment\n",
    "- Urban data flows: how to create, how to use, how to publicize\n",
    "- Major indicators to evaluate specific values\n",
    "    -- List them \n"
   ]
  },
  {
   "cell_type": "code",
   "execution_count": null,
   "metadata": {},
   "outputs": [],
   "source": []
  },
  {
   "cell_type": "code",
   "execution_count": null,
   "metadata": {},
   "outputs": [],
   "source": []
  },
  {
   "cell_type": "markdown",
   "metadata": {},
   "source": []
  }
 ],
 "metadata": {
  "kernelspec": {
   "display_name": "Python 3",
   "language": "python",
   "name": "python3"
  },
  "language_info": {
   "codemirror_mode": {
    "name": "ipython",
    "version": 3
   },
   "file_extension": ".py",
   "mimetype": "text/x-python",
   "name": "python",
   "nbconvert_exporter": "python",
   "pygments_lexer": "ipython3",
   "version": "3.7.2"
  }
 },
 "nbformat": 4,
 "nbformat_minor": 2
}
