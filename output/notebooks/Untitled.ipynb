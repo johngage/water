{
 "cells": [
  {
   "cell_type": "code",
   "execution_count": 1,
   "metadata": {},
   "outputs": [
    {
     "name": "stdout",
     "output_type": "stream",
     "text": [
      "/Users/johngage/Documents/blog\r\n"
     ]
    }
   ],
   "source": [
    "!pwd\n"
   ]
  },
  {
   "cell_type": "code",
   "execution_count": 2,
   "metadata": {},
   "outputs": [
    {
     "name": "stdout",
     "output_type": "stream",
     "text": [
      "Makefile          \u001b[31mdevelop_server.sh\u001b[m\u001b[m pelican.pid       requirements.txt\r\n",
      "Untitled.ipynb    fabfile.py        pelicanconf.py    srv.pid\r\n",
      "\u001b[34m__pycache__\u001b[m\u001b[m       \u001b[34moutput\u001b[m\u001b[m            \u001b[34mplugins\u001b[m\u001b[m           \u001b[34mthemes\u001b[m\u001b[m\r\n",
      "\u001b[34mcontent\u001b[m\u001b[m           \u001b[34mpelican-plugins\u001b[m\u001b[m   publishconf.py\r\n"
     ]
    }
   ],
   "source": [
    "!ls"
   ]
  },
  {
   "cell_type": "code",
   "execution_count": 3,
   "metadata": {},
   "outputs": [
    {
     "name": "stdout",
     "output_type": "stream",
     "text": [
      "On branch develop\n",
      "Changes not staged for commit:\n",
      "  (use \"git add/rm <file>...\" to update what will be committed)\n",
      "  (use \"git checkout -- <file>...\" to discard changes in working directory)\n",
      "\n",
      "\t\u001b[31mmodified:   Makefile\u001b[m\n",
      "\t\u001b[31mmodified:   __pycache__/pelicanconf.cpython-36.pyc\u001b[m\n",
      "\t\u001b[31mdeleted:    content/first.md\u001b[m\n",
      "\t\u001b[31mdeleted:    content/pages/first.md\u001b[m\n",
      "\t\u001b[31mmodified:   output/archives.html\u001b[m\n",
      "\t\u001b[31mmodified:   output/authors.html\u001b[m\n",
      "\t\u001b[31mmodified:   output/categories.html\u001b[m\n",
      "\t\u001b[31mmodified:   output/index.html\u001b[m\n",
      "\t\u001b[31mmodified:   output/pages/first-post/index.html\u001b[m\n",
      "\t\u001b[31mmodified:   output/tags.html\u001b[m\n",
      "\t\u001b[31mmodified:   output/tipuesearch_content.json\u001b[m\n",
      "\t\u001b[31mmodified:   pelicanconf.py\u001b[m\n",
      "\n",
      "Untracked files:\n",
      "  (use \"git add <file>...\" to include in what will be committed)\n",
      "\n",
      "\t\u001b[31m.ipynb_checkpoints/\u001b[m\n",
      "\t\u001b[31mUntitled.ipynb\u001b[m\n",
      "\t\u001b[31mcontent/articles/\u001b[m\n",
      "\t\u001b[31mcontent/pages/books/\u001b[m\n",
      "\t\u001b[31mcontent/pages/first.rst\u001b[m\n",
      "\t\u001b[31mcontent/pages/general.md\u001b[m\n",
      "\t\u001b[31mcontent/pages/waterbib.md\u001b[m\n",
      "\t\u001b[31mcontent/pages/waterbib0.md\u001b[m\n",
      "\t\u001b[31mcontent/pages/waterbib1.md\u001b[m\n",
      "\t\u001b[31mcontent/pages/waterbib2.md\u001b[m\n",
      "\t\u001b[31mcontent/waterhackathon-followup.md\u001b[m\n",
      "\t\u001b[31moutput/articles/\u001b[m\n",
      "\t\u001b[31moutput/author/\u001b[m\n",
      "\t\u001b[31moutput/category/\u001b[m\n",
      "\t\u001b[31moutput/pages/Great books/\u001b[m\n",
      "\t\u001b[31moutput/pages/I'm in books/\u001b[m\n",
      "\t\u001b[31moutput/pages/I'm standalone named first/\u001b[m\n",
      "\t\u001b[31moutput/pages/Trying reStructuredText/\u001b[m\n",
      "\t\u001b[31moutput/pages/Water Bibliography 1/\u001b[m\n",
      "\t\u001b[31moutput/pages/Water Bibliography 2/\u001b[m\n",
      "\t\u001b[31moutput/pages/Water Bibliography 3/\u001b[m\n",
      "\t\u001b[31moutput/pages/Water Bibliography 4/\u001b[m\n",
      "\t\u001b[31moutput/pages/Water Bibliography/\u001b[m\n",
      "\t\u001b[31moutput/pages/index.html\u001b[m\n",
      "\t\u001b[31moutput/posts/\u001b[m\n",
      "\t\u001b[31moutput/search.html\u001b[m\n",
      "\t\u001b[31moutput/tag/\u001b[m\n",
      "\n",
      "no changes added to commit (use \"git add\" and/or \"git commit -a\")\n"
     ]
    }
   ],
   "source": [
    "!git status"
   ]
  },
  {
   "cell_type": "code",
   "execution_count": null,
   "metadata": {},
   "outputs": [],
   "source": []
  }
 ],
 "metadata": {
  "kernelspec": {
   "display_name": "Python 3",
   "language": "python",
   "name": "python3"
  },
  "language_info": {
   "codemirror_mode": {
    "name": "ipython",
    "version": 3
   },
   "file_extension": ".py",
   "mimetype": "text/x-python",
   "name": "python",
   "nbconvert_exporter": "python",
   "pygments_lexer": "ipython3",
   "version": "3.6.5"
  }
 },
 "nbformat": 4,
 "nbformat_minor": 2
}
