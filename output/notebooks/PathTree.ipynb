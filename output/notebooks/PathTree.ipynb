{
 "cells": [
  {
   "cell_type": "markdown",
   "metadata": {},
   "source": [
    "#### emulation of Linux tree command in Python ####"
   ]
  },
  {
   "cell_type": "code",
   "execution_count": 1,
   "metadata": {},
   "outputs": [],
   "source": [
    "import os\n",
    "\n",
    "def list_files(startpath):\n",
    "    for root, dirs, files in os.walk(startpath):\n",
    "        level = root.replace(startpath, '').count(os.sep)\n",
    "        indent = ' ' * 4 * (level)\n",
    "        print('{}{}/'.format(indent, os.path.basename(root)))\n",
    "        subindent = ' ' * 4 * (level + 1)\n",
    "        for f in files:\n",
    "            print('{}{}'.format(subindent, f))"
   ]
  },
  {
   "cell_type": "code",
   "execution_count": 12,
   "metadata": {},
   "outputs": [
    {
     "name": "stdout",
     "output_type": "stream",
     "text": [
      "notebooks/\n",
      "    lab05WorldOriginal.ipynb\n",
      "    lab05WorldComplete.ipynb\n",
      "    Untitled.ipynb\n",
      "    Batteries.ipynb\n",
      "    lab05Song1.ipynb\n",
      "    lab05WorldComplete-Copy1.ipynb\n",
      "    lab05Song2.ipynb\n",
      "    .ipynb_checkpoints/\n",
      "        lab05Song1-checkpoint.ipynb\n",
      "        lab05WorldOriginal-checkpoint.ipynb\n",
      "        lab05WorldComplete-checkpoint.ipynb\n",
      "        lab05Song2-checkpoint.ipynb\n",
      "        Untitled-checkpoint.ipynb\n",
      "        Batteries-checkpoint.ipynb\n",
      "        lab05WorldComplete-Copy1-checkpoint.ipynb\n"
     ]
    }
   ],
   "source": [
    "list_files('/Users/johngage/Documents/blog/content/notebooks')"
   ]
  },
  {
   "cell_type": "code",
   "execution_count": 20,
   "metadata": {},
   "outputs": [
    {
     "name": "stdout",
     "output_type": "stream",
     "text": [
      "/Users/johngage/Documents/blog/content/notebooks\r\n"
     ]
    }
   ],
   "source": [
    "!pwd\n"
   ]
  },
  {
   "cell_type": "code",
   "execution_count": 25,
   "metadata": {},
   "outputs": [],
   "source": [
    "from pathlib import Path\n",
    "\n",
    "class DisplayablePath(object):\n",
    "    display_filename_prefix_middle = '├──'\n",
    "    display_filename_prefix_last = '└──'\n",
    "    display_parent_prefix_middle = '    '\n",
    "    display_parent_prefix_last = '│   '\n",
    "\n",
    "    def __init__(self, path, parent_path, is_last):\n",
    "        self.path = Path(str(path))\n",
    "        self.parent = parent_path\n",
    "        self.is_last = is_last\n",
    "        if self.parent:\n",
    "            self.depth = self.parent.depth + 1\n",
    "        else:\n",
    "            self.depth = 0\n",
    "\n",
    "    @property\n",
    "    def displayname(self):\n",
    "        if self.path.is_dir():\n",
    "            return self.path.name + '/'\n",
    "        return self.path.name\n",
    "\n",
    "    @classmethod\n",
    "    def make_tree(cls, root, parent=None, is_last=False, criteria=None):\n",
    "        root = Path(str(root))\n",
    "        criteria = criteria or cls._default_criteria\n",
    "\n",
    "        displayable_root = cls(root, parent, is_last)\n",
    "        yield displayable_root\n",
    "\n",
    "        children = sorted(list(path\n",
    "                               for path in root.iterdir()\n",
    "                               if criteria(path)),\n",
    "                          key=lambda s: str(s).lower())\n",
    "        count = 1\n",
    "        for path in children:\n",
    "            is_last = count == len(children)\n",
    "            if path.is_dir():\n",
    "                yield from cls.make_tree(path,\n",
    "                                         parent=displayable_root,\n",
    "                                         is_last=is_last,\n",
    "                                         criteria=criteria)\n",
    "            else:\n",
    "                yield cls(path, displayable_root, is_last)\n",
    "            count += 1\n",
    "\n",
    "    @classmethod\n",
    "    def _default_criteria(cls, path):\n",
    "        return True\n",
    "\n",
    "    @property\n",
    "    def displayname(self):\n",
    "        if self.path.is_dir():\n",
    "            return self.path.name + '/'\n",
    "        return self.path.name\n",
    "\n",
    "    def displayable(self):\n",
    "        if self.parent is None:\n",
    "            return self.displayname\n",
    "\n",
    "        _filename_prefix = (self.display_filename_prefix_last\n",
    "                            if self.is_last\n",
    "                            else self.display_filename_prefix_middle)\n",
    "\n",
    "        parts = ['{!s} {!s}'.format(_filename_prefix,\n",
    "                                    self.displayname)]\n",
    "\n",
    "        parent = self.parent\n",
    "        while parent and parent.parent is not None:\n",
    "            parts.append(self.display_parent_prefix_middle\n",
    "                         if parent.is_last\n",
    "                         else self.display_parent_prefix_last)\n",
    "            parent = parent.parent\n",
    "\n",
    "        return ''.join(reversed(parts))\n"
   ]
  },
  {
   "cell_type": "code",
   "execution_count": 30,
   "metadata": {},
   "outputs": [],
   "source": [
    "paths = DisplayablePath.make_tree(Path('/Users/johngage/Documents/blog/content/'))"
   ]
  },
  {
   "cell_type": "code",
   "execution_count": 31,
   "metadata": {},
   "outputs": [
    {
     "name": "stdout",
     "output_type": "stream",
     "text": [
      "content/\n",
      "├── articles/\n",
      "│   ├── Battery.md\n",
      "│   ├── CSWBHackathon3.md\n",
      "│   ├── CWBHackathon1.md\n",
      "│   ├── CWBHackathon2.md\n",
      "│   ├── DataScienceWorld.md\n",
      "│   ├── DKMarin.md\n",
      "│   ├── first.rst\n",
      "│   ├── HowThisSiteWasCreated.md\n",
      "│   ├── LittleTable.html\n",
      "│   ├── Mt.Mantap Nuclear Test.md\n",
      "│   ├── NewRST.rst\n",
      "│   ├── TahoeBuoy.md\n",
      "│   ├── TeamsOnSlack.md\n",
      "│   ├── Tues.md\n",
      "│   ├── Tues.rst\n",
      "│   ├── VotingSep27.md\n",
      "│   ├── waterhackathon-followup.md\n",
      "│   └── Waveglider.md\n",
      "├── Draft/\n",
      "├── extra/\n",
      "│   ├── custom.css\n",
      "│   └── custom.js\n",
      "├── images/\n",
      "│   ├── .DS_Store\n",
      "│   └── sunlight.png\n",
      "├── notebooks/\n",
      "│   ├── .ipynb_checkpoints/\n",
      "│   │   ├── Batteries-checkpoint.ipynb\n",
      "│   │   ├── lab05Song1-checkpoint.ipynb\n",
      "│   │   ├── lab05Song2-checkpoint.ipynb\n",
      "│   │   ├── lab05WorldComplete-checkpoint.ipynb\n",
      "│   │   ├── lab05WorldComplete-Copy1-checkpoint.ipynb\n",
      "│   │   ├── lab05WorldOriginal-checkpoint.ipynb\n",
      "│   │   └── Untitled-checkpoint.ipynb\n",
      "│   ├── Batteries.ipynb\n",
      "│   ├── lab05Song1.ipynb\n",
      "│   ├── lab05Song2.ipynb\n",
      "│   ├── lab05WorldComplete-Copy1.ipynb\n",
      "│   ├── lab05WorldComplete.ipynb\n",
      "│   ├── lab05WorldOriginal.ipynb\n",
      "│   └── Untitled.ipynb\n",
      "└── pages/\n",
      "    ├── about.md\n",
      "    └── books/\n",
      "        └── Biblio.md\n"
     ]
    }
   ],
   "source": [
    "for path in paths:\n",
    "    print(path.displayable())\n"
   ]
  },
  {
   "cell_type": "code",
   "execution_count": null,
   "metadata": {},
   "outputs": [],
   "source": []
  }
 ],
 "metadata": {
  "kernelspec": {
   "display_name": "Python 3",
   "language": "python",
   "name": "python3"
  },
  "language_info": {
   "codemirror_mode": {
    "name": "ipython",
    "version": 3
   },
   "file_extension": ".py",
   "mimetype": "text/x-python",
   "name": "python",
   "nbconvert_exporter": "python",
   "pygments_lexer": "ipython3",
   "version": "3.6.5"
  }
 },
 "nbformat": 4,
 "nbformat_minor": 2
}
